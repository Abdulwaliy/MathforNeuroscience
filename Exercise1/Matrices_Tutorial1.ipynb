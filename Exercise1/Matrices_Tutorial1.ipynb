{
  "nbformat": 4,
  "nbformat_minor": 0,
  "metadata": {
    "colab": {
      "provenance": [],
      "toc_visible": true,
      "include_colab_link": true
    },
    "kernelspec": {
      "name": "python3",
      "display_name": "Python 3"
    }
  },
  "cells": [
    {
      "cell_type": "markdown",
      "metadata": {
        "id": "view-in-github",
        "colab_type": "text"
      },
      "source": [
        "<a href=\"https://colab.research.google.com/github/Abdulwaliy/MathforNeuroscience/blob/main/Exercise1/Matrices_Tutorial1.ipynb\" target=\"_parent\"><img src=\"https://colab.research.google.com/assets/colab-badge.svg\" alt=\"Open In Colab\"/></a>"
      ]
    },
    {
      "cell_type": "markdown",
      "metadata": {
        "id": "S9l0lyqLvkW7"
      },
      "source": [
        "# Tutorial 1\n",
        "\n",
        "**Linear Algebra II, Matrices**\n",
        "\n",
        "**[insert your name]**\n",
        "\n",
        "**Important reminders**: Before starting, click \"File -> Save a copy in Drive\". Produce a pdf for submission by \"File -> Print\" and then choose \"Save to PDF\".\n",
        "\n",
        "To complete this tutorial, you should have watched Videos 2.1 through 2.5.\n",
        "\n"
      ]
    },
    {
      "cell_type": "markdown",
      "metadata": {
        "id": "49jtwhuUNHM8"
      },
      "source": [
        "**Credits:**\n",
        "The videos you watched for this week were from 3Blue1Brown. Some elements of this problem set are from or inspired by https://openedx.seas.gwu.edu/courses/course-v1:GW+EngComp4+2019/about. In particular, we are using their `plot_linear_transformation` and `plot_linear_transformations` functions, and the demonstration of the additional transformation of a matrix inverse (end of Exercise 2)"
      ]
    },
    {
      "cell_type": "code",
      "metadata": {
        "id": "cv9HSBNPyLV9"
      },
      "source": [
        "# Imports\n",
        "import numpy as np\n",
        "import matplotlib.pyplot as plt\n",
        "import matplotlib\n",
        "import scipy.linalg\n",
        "\n",
        "# Plotting parameters\n",
        "matplotlib.rcParams.update({'font.size': 22})"
      ],
      "execution_count": 1,
      "outputs": []
    },
    {
      "cell_type": "code",
      "metadata": {
        "id": "ZIdPVYl9TzmK",
        "cellView": "form"
      },
      "source": [
        "# @title Plotting functions\n",
        "import numpy\n",
        "from numpy.linalg import inv, eig\n",
        "from math import ceil\n",
        "from matplotlib import pyplot, ticker, get_backend, rc\n",
        "from mpl_toolkits.mplot3d import Axes3D\n",
        "from itertools import cycle\n",
        "\n",
        "_int_backends = ['GTK3Agg', 'GTK3Cairo', 'MacOSX', 'nbAgg',\n",
        "                 'Qt4Agg', 'Qt4Cairo', 'Qt5Agg', 'Qt5Cairo',\n",
        "                 'TkAgg', 'TkCairo', 'WebAgg', 'WX', 'WXAgg', 'WXCairo']\n",
        "_backend = get_backend()   # get current backend name\n",
        "\n",
        "# shrink figsize and fontsize when using %matplotlib notebook\n",
        "if _backend in _int_backends:\n",
        "    fontsize = 4\n",
        "    fig_scale = 0.75\n",
        "else:\n",
        "    fontsize = 5\n",
        "    fig_scale = 1\n",
        "\n",
        "grey = '#808080'\n",
        "gold = '#cab18c'   # x-axis grid\n",
        "lightblue = '#0096d6'  # y-axis grid\n",
        "green = '#008367'  # x-axis basis vector\n",
        "red = '#E31937'    # y-axis basis vector\n",
        "darkblue = '#004065'\n",
        "\n",
        "pink, yellow, orange, purple, brown = '#ef7b9d', '#fbd349', '#ffa500', '#a35cff', '#731d1d'\n",
        "\n",
        "quiver_params = {'angles': 'xy',\n",
        "                 'scale_units': 'xy',\n",
        "                 'scale': 1,\n",
        "                 'width': 0.012}\n",
        "\n",
        "grid_params = {'linewidth': 0.5,\n",
        "               'alpha': 0.8}\n",
        "\n",
        "def set_rc(func):\n",
        "    def wrapper(*args, **kwargs):\n",
        "        rc('font', family='serif', size=fontsize)\n",
        "        rc('figure', dpi=200)\n",
        "        rc('axes', axisbelow=True, titlesize=5)\n",
        "        rc('lines', linewidth=1)\n",
        "        func(*args, **kwargs)\n",
        "    return wrapper\n",
        "\n",
        "@set_rc\n",
        "def plot_vector(vectors, tails=None):\n",
        "    ''' Draw 2d vectors based on the values of the vectors and the position of their tails.\n",
        "\n",
        "    Parameters\n",
        "    ----------\n",
        "    vectors : list.\n",
        "        List of 2-element array-like structures, each represents a 2d vector.\n",
        "\n",
        "    tails : list, optional.\n",
        "        List of 2-element array-like structures, each represents the coordinates of the tail\n",
        "        of the corresponding vector in vectors. If None (default), all tails are set at the\n",
        "        origin (0,0). If len(tails) is 1, all tails are set at the same position. Otherwise,\n",
        "        vectors and tails must have the same length.\n",
        "\n",
        "    Examples\n",
        "    --------\n",
        "    >>> v = [(1, 3), (3, 3), (4, 6)]\n",
        "    >>> plot_vector(v)      # draw 3 vectors with their tails at origin\n",
        "    >>> t = [numpy.array((2, 2))]\n",
        "    >>> plot_vector(v, t)   # draw 3 vectors with their tails at (2,2)\n",
        "    >>> t = [[3, 2], [-1, -2], [3, 5]]\n",
        "    >>> plot_vector(v, t)   # draw 3 vectors with 3 different tails\n",
        "\n",
        "    '''\n",
        "    vectors = numpy.array(vectors)\n",
        "    assert vectors.shape[1] == 2, \"Each vector should have 2 elements.\"\n",
        "    if tails is not None:\n",
        "        tails = numpy.array(tails)\n",
        "        assert tails.shape[1] == 2, \"Each tail should have 2 elements.\"\n",
        "    else:\n",
        "        tails = numpy.zeros_like(vectors)\n",
        "\n",
        "    # tile vectors or tails array if needed\n",
        "    nvectors = vectors.shape[0]\n",
        "    ntails = tails.shape[0]\n",
        "    if nvectors == 1 and ntails > 1:\n",
        "        vectors = numpy.tile(vectors, (ntails, 1))\n",
        "    elif ntails == 1 and nvectors > 1:\n",
        "        tails = numpy.tile(tails, (nvectors, 1))\n",
        "    else:\n",
        "        assert tails.shape == vectors.shape, \"vectors and tail must have a same shape\"\n",
        "\n",
        "    # calculate xlimit & ylimit\n",
        "    heads = tails + vectors\n",
        "    limit = numpy.max(numpy.abs(numpy.hstack((tails, heads))))\n",
        "    limit = numpy.ceil(limit * 1.2)   # add some margins\n",
        "\n",
        "    figsize = numpy.array([2,2]) * fig_scale\n",
        "    figure, axis = pyplot.subplots(figsize=figsize)\n",
        "    axis.quiver(tails[:,0], tails[:,1], vectors[:,0], vectors[:,1], color=darkblue,\n",
        "                  angles='xy', scale_units='xy', scale=1)\n",
        "    axis.set_xlim([-limit, limit])\n",
        "    axis.set_ylim([-limit, limit])\n",
        "    axis.set_aspect('equal')\n",
        "\n",
        "    # if xticks and yticks of grid do not match, choose the finer one\n",
        "    xticks = axis.get_xticks()\n",
        "    yticks = axis.get_yticks()\n",
        "    dx = xticks[1] - xticks[0]\n",
        "    dy = yticks[1] - yticks[0]\n",
        "    base = max(int(min(dx, dy)), 1)   # grid interval is always an integer\n",
        "    loc = ticker.MultipleLocator(base=base)\n",
        "    axis.xaxis.set_major_locator(loc)\n",
        "    axis.yaxis.set_major_locator(loc)\n",
        "    axis.grid(True, **grid_params)\n",
        "\n",
        "    # show x-y axis in the center, hide frames\n",
        "    axis.spines['left'].set_position('center')\n",
        "    axis.spines['bottom'].set_position('center')\n",
        "    axis.spines['right'].set_color('none')\n",
        "    axis.spines['top'].set_color('none')\n",
        "\n",
        "@set_rc\n",
        "def plot_transformation_helper(axis, matrix, *vectors, unit_vector=True, unit_circle=False, title=None):\n",
        "    \"\"\" A helper function to plot the linear transformation defined by a 2x2 matrix.\n",
        "\n",
        "    Parameters\n",
        "    ----------\n",
        "    axis : class matplotlib.axes.Axes.\n",
        "        The axes to plot on.\n",
        "\n",
        "    matrix : class numpy.ndarray.\n",
        "        The 2x2 matrix to visualize.\n",
        "\n",
        "    *vectors : class numpy.ndarray.\n",
        "        The vector(s) to plot along with the linear transformation. Each array denotes a vector's\n",
        "        coordinates before the transformation and must have a shape of (2,). Accept any number of vectors.\n",
        "\n",
        "    unit_vector : bool, optional.\n",
        "        Whether to plot unit vectors of the standard basis, default to True.\n",
        "\n",
        "    unit_circle: bool, optional.\n",
        "        Whether to plot unit circle, default to False.\n",
        "\n",
        "    title: str, optional.\n",
        "        Title of the plot.\n",
        "\n",
        "    \"\"\"\n",
        "    assert matrix.shape == (2,2), \"the input matrix must have a shape of (2,2)\"\n",
        "    grid_range = 20\n",
        "    x = numpy.arange(-grid_range, grid_range+1)\n",
        "    X_, Y_ = numpy.meshgrid(x,x)\n",
        "    I = matrix[:,0]\n",
        "    J = matrix[:,1]\n",
        "    X = I[0]*X_ + J[0]*Y_\n",
        "    Y = I[1]*X_ + J[1]*Y_\n",
        "    origin = numpy.zeros(1)\n",
        "\n",
        "    # draw grid lines\n",
        "    for i in range(x.size):\n",
        "        axis.plot(X[i,:], Y[i,:], c=gold, **grid_params)\n",
        "        axis.plot(X[:,i], Y[:,i], c=lightblue, **grid_params)\n",
        "\n",
        "    # draw (transformed) unit vectors\n",
        "    if unit_vector:\n",
        "        axis.quiver(origin, origin, [I[0]], [I[1]], color=green, **quiver_params)\n",
        "        axis.quiver(origin, origin, [J[0]], [J[1]], color=red, **quiver_params)\n",
        "\n",
        "    # draw optional vectors\n",
        "    color_cycle = cycle([pink, darkblue, orange, purple, brown])\n",
        "    if vectors:\n",
        "        for vector in vectors:\n",
        "            color = next(color_cycle)\n",
        "            vector_ = matrix @ vector.reshape(-1,1)\n",
        "            axis.quiver(origin, origin, [vector_[0]], [vector_[1]], color=color, **quiver_params)\n",
        "\n",
        "    # draw optional unit circle\n",
        "    if unit_circle:\n",
        "        alpha =  numpy.linspace(0, 2*numpy.pi, 41)\n",
        "        circle = numpy.vstack((numpy.cos(alpha), numpy.sin(alpha)))\n",
        "        circle_trans = matrix @ circle\n",
        "        axis.plot(circle_trans[0], circle_trans[1], color=red, lw=0.8)\n",
        "\n",
        "    # hide frames, set xlimit & ylimit, set title\n",
        "    limit = 4\n",
        "    axis.spines['left'].set_position('center')\n",
        "    axis.spines['bottom'].set_position('center')\n",
        "    axis.spines['left'].set_linewidth(0.3)\n",
        "    axis.spines['bottom'].set_linewidth(0.3)\n",
        "    axis.spines['right'].set_color('none')\n",
        "    axis.spines['top'].set_color('none')\n",
        "    axis.set_xlim([-limit, limit])\n",
        "    axis.set_ylim([-limit, limit])\n",
        "    if title is not None:\n",
        "        axis.set_title(title)\n",
        "\n",
        "@set_rc\n",
        "def plot_linear_transformation(matrix, *vectors, unit_vector=True, unit_circle=False):\n",
        "    \"\"\" Plot the linear transformation defined by a 2x2 matrix using the helper\n",
        "    function plot_transformation_helper(). It will create 2 subplots to visualize some\n",
        "    vectors before and after the transformation.\n",
        "\n",
        "    Parameters\n",
        "    ----------\n",
        "    matrix : class numpy.ndarray.\n",
        "        The 2x2 matrix to visualize.\n",
        "\n",
        "    *vectors : class numpy.ndarray.\n",
        "        The vector(s) to plot along with the linear transformation. Each array denotes a vector's\n",
        "        coordinates before the transformation and must have a shape of (2,). Accept any number of vectors.\n",
        "\n",
        "    unit_vector : bool, optional.\n",
        "        Whether to plot unit vectors of the standard basis, default to True.\n",
        "\n",
        "    unit_circle: bool, optional.\n",
        "        Whether to plot unit circle, default to False.\n",
        "\n",
        "    \"\"\"\n",
        "    figsize = numpy.array([4,2]) * fig_scale\n",
        "    figure, (axis1, axis2) = pyplot.subplots(1, 2, figsize=figsize)\n",
        "    plot_transformation_helper(axis1, numpy.identity(2), *vectors, unit_vector=unit_vector, unit_circle=unit_circle, title='Before transformation')\n",
        "    plot_transformation_helper(axis2, matrix, *vectors, unit_vector=unit_vector, unit_circle=unit_circle, title='After transformation')\n",
        "\n",
        "@set_rc\n",
        "def plot_linear_transformations(*matrices, unit_vector=True, unit_circle=False):\n",
        "    \"\"\" Plot the linear transformation defined by a sequence of n 2x2 matrices using the helper\n",
        "    function plot_transformation_helper(). It will create n+1 subplots to visualize some\n",
        "    vectors before and after each transformation.\n",
        "\n",
        "    Parameters\n",
        "    ----------\n",
        "    *matrices : class numpy.ndarray.\n",
        "        The 2x2 matrices to visualize. Accept any number of matrices.\n",
        "\n",
        "    unit_vector : bool, optional.\n",
        "        Whether to plot unit vectors of the standard basis, default to True.\n",
        "\n",
        "    unit_circle: bool, optional.\n",
        "        Whether to plot unit circle, default to False.\n",
        "\n",
        "    \"\"\"\n",
        "    nplots = len(matrices) + 1\n",
        "    nx = 2\n",
        "    ny = ceil(nplots/nx)\n",
        "    figsize = numpy.array([2*nx, 2*ny]) * fig_scale\n",
        "    figure, axes = pyplot.subplots(nx, ny, figsize=figsize)\n",
        "\n",
        "    for i in range(nplots):  # fig_idx\n",
        "        if i == 0:\n",
        "            matrix_trans = numpy.identity(2)\n",
        "            title = 'Before transformation'\n",
        "        else:\n",
        "            matrix_trans = matrices[i-1] @ matrix_trans\n",
        "            if i == 1:\n",
        "                title = 'After {} transformation'.format(i)\n",
        "            else:\n",
        "                title = 'After {} transformations'.format(i)\n",
        "        plot_transformation_helper(axes[i//nx, i%nx], matrix_trans, unit_vector=unit_vector, unit_circle=unit_circle, title=title)\n",
        "    # hide axes of the extra subplot (only when nplots is an odd number)\n",
        "    if nx*ny > nplots:\n",
        "        axes[-1,-1].axis('off')\n"
      ],
      "execution_count": 2,
      "outputs": []
    },
    {
      "cell_type": "markdown",
      "metadata": {
        "id": "NPASg1qGvxze"
      },
      "source": [
        "# Exercise 1: Computation corner\n",
        "\n",
        "For each computation below, please calculate it 1) by-hand and 2) using code. Check that the answers match! For by-hand calculation, please show some work when possible. For example, for matrix multiplication, write out the computation of each element in the resulting matrix so it looks something like this:\n",
        "\n",
        "$$A = \\begin{bmatrix}\n",
        "5*2+4*1 &  3*5+1*2  \\\\\n",
        "0*1+1*2 & 3*2+4*5 \\\\\n",
        "\\end{bmatrix} $$\n",
        "\n",
        "Note that these are completely made up numbers for demonstration purposes - the above numbers don't make sense for a matrix multiplication.\n",
        "\n"
      ]
    },
    {
      "cell_type": "markdown",
      "metadata": {
        "id": "ejbWNbYT3FvA"
      },
      "source": [
        "## A) Matrix multiplication\n",
        "\n",
        "Please compute C = AB where $$A = \\begin{bmatrix}\n",
        "5 &  3  \\\\\n",
        "0 & 2 \\\\\n",
        "\\end{bmatrix}, B = \\begin{bmatrix}\n",
        "1 &  5  \\\\\n",
        "4 & 3 \\\\\n",
        "\\end{bmatrix} $$"
      ]
    },
    {
      "cell_type": "markdown",
      "metadata": {
        "id": "zcbTyQLf3V1L"
      },
      "source": [
        "**Your math answer**"
      ]
    },
    {
      "cell_type": "code",
      "metadata": {
        "id": "H9d4WqeP3Xgx",
        "colab": {
          "base_uri": "https://localhost:8080/"
        },
        "outputId": "e33739cc-7cd8-4906-bd33-24f34153e9c9"
      },
      "source": [
        "# Your code answer\n",
        "A = np.array([[5, 3],[0, 2]])\n",
        "B = np.array([[1, 5], [4, 3]])\n",
        "\n",
        "C = A @ B\n",
        "C"
      ],
      "execution_count": 10,
      "outputs": [
        {
          "output_type": "execute_result",
          "data": {
            "text/plain": [
              "array([[17, 34],\n",
              "       [ 8,  6]])"
            ]
          },
          "metadata": {},
          "execution_count": 10
        }
      ]
    },
    {
      "cell_type": "markdown",
      "metadata": {
        "id": "JfijGSHC3aFp"
      },
      "source": [
        "## B) Matrix multiplication\n",
        "\n",
        "Please compute Z = XY where $$X = \\begin{bmatrix}\n",
        "3 &  2 & 1 \\\\\n",
        "1 & 2 & 7 \\\\\n",
        "\\end{bmatrix}, Y = \\begin{bmatrix}\n",
        "0 &  1  \\\\\n",
        "2 & 4 \\\\\n",
        "5 & 1 \\\\\n",
        "\\end{bmatrix} $$\n",
        "\n",
        "Before computing, figure out what the dimensions of Z will be (no need to explicitly answer this)"
      ]
    },
    {
      "cell_type": "markdown",
      "metadata": {
        "id": "Tsvv4d_f3vD3"
      },
      "source": [
        "**Your math answer**"
      ]
    },
    {
      "cell_type": "code",
      "metadata": {
        "id": "K4o4m9nO3xaS",
        "colab": {
          "base_uri": "https://localhost:8080/"
        },
        "outputId": "8b3fb23f-c3fc-4542-c08c-db36c519643a"
      },
      "source": [
        "# Your code answer\n",
        "X = np.array([[3, 2, 1], [1, 2, 7]])\n",
        "X.shape\n",
        "Y = np.array([[0, 1], [2, 4], [5, 1]])\n",
        "Z = X.dot(Y)\n",
        "Z"
      ],
      "execution_count": 16,
      "outputs": [
        {
          "output_type": "execute_result",
          "data": {
            "text/plain": [
              "array([[ 9, 12],\n",
              "       [39, 16]])"
            ]
          },
          "metadata": {},
          "execution_count": 16
        }
      ]
    },
    {
      "cell_type": "markdown",
      "metadata": {
        "id": "xAruO_iq4BMR"
      },
      "source": [
        "## C) (Optional) Transpose\n",
        "\n",
        "**Please come back to this problem if you complete the rest of the tutorial during class time.**\n",
        "\n",
        "The **tranpose** of a matrix flips a matrix over its diagonal, changing the rows to columns and the columns to rows. We denote the transpose of matrix X with $X^T$. In numpy, we can get the transpose of an array X with `X.T`.\n",
        "\n",
        "First, write out the transpose of X from part B yourself and then produce it using code.\n"
      ]
    },
    {
      "cell_type": "markdown",
      "metadata": {
        "id": "Y9s0idlJ4q-t"
      },
      "source": [
        "**Your math answer**"
      ]
    },
    {
      "cell_type": "code",
      "metadata": {
        "id": "XBV8atbz4pB1",
        "colab": {
          "base_uri": "https://localhost:8080/",
          "height": 194
        },
        "outputId": "cf6a054d-4449-4da6-8f07-b0f061940c17"
      },
      "source": [
        "# Your code answer\n",
        "print(X.T.dot)\n",
        "#print(X.T.dot(Y))"
      ],
      "execution_count": 18,
      "outputs": [
        {
          "output_type": "error",
          "ename": "ValueError",
          "evalue": "ignored",
          "traceback": [
            "\u001b[0;31m---------------------------------------------------------------------------\u001b[0m",
            "\u001b[0;31mValueError\u001b[0m                                Traceback (most recent call last)",
            "\u001b[0;32m<ipython-input-18-08872a721db6>\u001b[0m in \u001b[0;36m<cell line: 2>\u001b[0;34m()\u001b[0m\n\u001b[1;32m      1\u001b[0m \u001b[0;31m# Your code answer\u001b[0m\u001b[0;34m\u001b[0m\u001b[0;34m\u001b[0m\u001b[0m\n\u001b[0;32m----> 2\u001b[0;31m \u001b[0mprint\u001b[0m\u001b[0;34m(\u001b[0m\u001b[0mX\u001b[0m\u001b[0;34m.\u001b[0m\u001b[0mT\u001b[0m\u001b[0;34m.\u001b[0m\u001b[0mdot\u001b[0m\u001b[0;34m(\u001b[0m\u001b[0mY\u001b[0m\u001b[0;34m)\u001b[0m\u001b[0;34m)\u001b[0m\u001b[0;34m\u001b[0m\u001b[0;34m\u001b[0m\u001b[0m\n\u001b[0m",
            "\u001b[0;31mValueError\u001b[0m: shapes (3,2) and (3,2) not aligned: 2 (dim 1) != 3 (dim 0)"
          ]
        }
      ]
    },
    {
      "cell_type": "markdown",
      "metadata": {
        "id": "Aps2zT3A5Ng6"
      },
      "source": [
        "You could not compute $X^TY$ - why not?"
      ]
    },
    {
      "cell_type": "markdown",
      "metadata": {
        "id": "KPDaGuHl5Ocz"
      },
      "source": [
        "**Your text answer**"
      ]
    },
    {
      "cell_type": "markdown",
      "metadata": {
        "id": "hdv1stq_Nj-E"
      },
      "source": [
        "# Exercise 2: Thinking about transformations\n",
        "\n",
        "In the video *Linear transformations and matrices*, you learned that a matrix corresponding to a rotation by 90 degrees is $$X = \\begin{bmatrix}\n",
        "0 &  -1  \\\\\n",
        "1 & 0 \\\\\n",
        "\\end{bmatrix}$$ You also saw that one matrix for which the transformation is horizontal shear is $$X = \\begin{bmatrix}\n",
        "1 &  1  \\\\\n",
        "0 & 1 \\\\\n",
        "\\end{bmatrix}$$\n",
        "\n",
        "In this exercise, we will think about some other types of transformations. We will use  `plot_linear_transformation(X)` to see the grid before and after the transformation corresponding to matrix $X$.\n",
        "\n",
        "\n",
        "**Remember to think about where your basis vectors should end up! Then your matrix consists of the transformed basis vectors. Drawing out what you want to happen can help**"
      ]
    },
    {
      "cell_type": "markdown",
      "metadata": {
        "id": "Co-y0Qf1OkmG"
      },
      "source": [
        "## A) Reflection across x2 axis\n",
        "\n",
        "Come up with a matrix $A$ for which the corresponding linear transformation is reflection through the $x_2$ axis (flipping across the $x_2$ axis). For example, $\\bar{x} = \\begin{bmatrix}\n",
        "1 \\\\\n",
        "5  \\\\\n",
        "\\end{bmatrix}$ should become $\\bar{b} = \\begin{bmatrix}\n",
        "-1 \\\\\n",
        "5  \\\\\n",
        "\\end{bmatrix}$ when multiplied with $A$.\n",
        "\n",
        "\n",
        "\n"
      ]
    },
    {
      "cell_type": "code",
      "metadata": {
        "id": "weE6AY8XNqKy",
        "colab": {
          "base_uri": "https://localhost:8080/",
          "height": 401
        },
        "outputId": "be7726db-71f7-4de2-ee3f-a9dd2de5c30b"
      },
      "source": [
        "A = A = np.array([[5, 3],[0, 2]])\n",
        "x = np.array([[1,],[5,]])\n",
        "c = (A@x)\n",
        "plot_linear_transformation(A)"
      ],
      "execution_count": 27,
      "outputs": [
        {
          "output_type": "display_data",
          "data": {
            "text/plain": [
              "<Figure size 800x400 with 2 Axes>"
            ],
            "image/png": "[encoded data removed]"
          },
          "metadata": {}
        }
      ]
    },
    {
      "cell_type": "markdown",
      "metadata": {
        "id": "yvOvjFb3RloE"
      },
      "source": [
        "Would you expect the determinant of A to be positive or negative? Why? Would you expect the absolute value of the determinant to be greater than 1, less than 1, or equal to 1. Why?"
      ]
    },
    {
      "cell_type": "markdown",
      "metadata": {
        "id": "OvqXcusYRwzU"
      },
      "source": [
        "**Your text answer**"
      ]
    },
    {
      "cell_type": "markdown",
      "metadata": {
        "id": "JGfGwR_hR4r8"
      },
      "source": [
        "## B) Projection onto x1\n",
        "\n",
        "Come up with a matrix $A$ for which the corresponding linear transformation is projecting onto the $x_1$ axis. For example, $\\bar{x} = \\begin{bmatrix}\n",
        "1 \\\\\n",
        "5  \\\\\n",
        "\\end{bmatrix}$ should become $\\bar{b} = \\begin{bmatrix}\n",
        "1 \\\\\n",
        "0  \\\\\n",
        "\\end{bmatrix}$ when multiplied with $A$.\n"
      ]
    },
    {
      "cell_type": "code",
      "metadata": {
        "id": "Y1AMaHxtSEsb"
      },
      "source": [
        "A = ...\n",
        "plot_linear_transformation(A)"
      ],
      "execution_count": null,
      "outputs": []
    },
    {
      "cell_type": "markdown",
      "metadata": {
        "id": "2ggntcimSMPP"
      },
      "source": [
        "Would you expect the determinant of A to be positive or negative? Why? Would you expect the absolute value of the determinant to be greater than 1, less than 1, or equal to 1. Why?"
      ]
    },
    {
      "cell_type": "markdown",
      "metadata": {
        "id": "m8xr-MjjSNzU"
      },
      "source": [
        "**Your text answer**"
      ]
    },
    {
      "cell_type": "markdown",
      "metadata": {
        "id": "nkSCHirZSuRD"
      },
      "source": [
        "## C) (Optional) Figuring out the transformation from a matrix\n",
        "\n",
        "**Please come back to this problem if you complete the rest of the tutorial during class time.**\n",
        "\n",
        "$$A = \\begin{bmatrix}\n",
        "3 &  1  \\\\\n",
        "0 & 3 \\\\\n",
        "\\end{bmatrix}$$\n",
        "\n",
        "Try to answer the below questions without looking at the plot of the transformation, but feel free to do so if you get stuck\n",
        "\n",
        "i) This matrix is a composition of two basic transformations, where possible basic transformations are reflection, contraction, expansion, horizontal shear, vertical shear, and projection.  What are the two basic transformations it is a composition of? (Hint: does this matrix look at all like either of the two in the description below Exercise 2?)\n",
        "\n",
        "ii) Would you expect the determinant of A to be positive or negative? Why? Would you expect the absolute value of the determinant to be greater than 1, less than 1, or equal to 1. Why?\n",
        "\n",
        "iii) Rewrite A as a matrix multiplication of two matrices where each matrix corresponds to one of the basic transformations.\n",
        "\n",
        "\n"
      ]
    },
    {
      "cell_type": "markdown",
      "metadata": {
        "id": "aRsreldLTrPd"
      },
      "source": [
        "**Your text answer**"
      ]
    },
    {
      "cell_type": "code",
      "metadata": {
        "id": "1envwjkCTBXP",
        "colab": {
          "base_uri": "https://localhost:8080/",
          "height": 401
        },
        "outputId": "d734b7b0-e5c6-4f18-fdd0-51ef57e62e26"
      },
      "source": [
        "A = np.array([[3, 1], [0, 3]])\n",
        "plot_linear_transformation(A)"
      ],
      "execution_count": 29,
      "outputs": [
        {
          "output_type": "display_data",
          "data": {
            "text/plain": [
              "<Figure size 800x400 with 2 Axes>"
            ],
            "image/png": "[encoded data removed]"
          },
          "metadata": {}
        }
      ]
    },
    {
      "cell_type": "markdown",
      "metadata": {
        "id": "nHI10sqXUk_j"
      },
      "source": [
        "## Extra info: Matrix inverse transformation\n",
        "\n",
        "We know that the inverse of a matrix essentially \"undoes\" the transformation of the matrix. Let's see this in action. We will plot the transformation of A then the additional transformation of $A^{-1}$ - the resulting plot should look like the original."
      ]
    },
    {
      "cell_type": "code",
      "metadata": {
        "id": "Sor6hWz2XgIu",
        "colab": {
          "base_uri": "https://localhost:8080/",
          "height": 211
        },
        "outputId": "6795bbbe-f7b0-4afa-d6a8-33636e99e182"
      },
      "source": [
        "A = np.array([[1,2], [2,1]])\n",
        "A_inv = np.linalg.inv(M)\n",
        "plot_linear_transformations(A, A_inv)"
      ],
      "execution_count": 30,
      "outputs": [
        {
          "output_type": "error",
          "ename": "NameError",
          "evalue": "ignored",
          "traceback": [
            "\u001b[0;31m---------------------------------------------------------------------------\u001b[0m",
            "\u001b[0;31mNameError\u001b[0m                                 Traceback (most recent call last)",
            "\u001b[0;32m<ipython-input-30-e6bb1f087914>\u001b[0m in \u001b[0;36m<cell line: 2>\u001b[0;34m()\u001b[0m\n\u001b[1;32m      1\u001b[0m \u001b[0mA\u001b[0m \u001b[0;34m=\u001b[0m \u001b[0mnp\u001b[0m\u001b[0;34m.\u001b[0m\u001b[0marray\u001b[0m\u001b[0;34m(\u001b[0m\u001b[0;34m[\u001b[0m\u001b[0;34m[\u001b[0m\u001b[0;36m1\u001b[0m\u001b[0;34m,\u001b[0m\u001b[0;36m2\u001b[0m\u001b[0;34m]\u001b[0m\u001b[0;34m,\u001b[0m \u001b[0;34m[\u001b[0m\u001b[0;36m2\u001b[0m\u001b[0;34m,\u001b[0m\u001b[0;36m1\u001b[0m\u001b[0;34m]\u001b[0m\u001b[0;34m]\u001b[0m\u001b[0;34m)\u001b[0m\u001b[0;34m\u001b[0m\u001b[0;34m\u001b[0m\u001b[0m\n\u001b[0;32m----> 2\u001b[0;31m \u001b[0mA_inv\u001b[0m \u001b[0;34m=\u001b[0m \u001b[0mnp\u001b[0m\u001b[0;34m.\u001b[0m\u001b[0mlinalg\u001b[0m\u001b[0;34m.\u001b[0m\u001b[0minv\u001b[0m\u001b[0;34m(\u001b[0m\u001b[0mM\u001b[0m\u001b[0;34m)\u001b[0m\u001b[0;34m\u001b[0m\u001b[0;34m\u001b[0m\u001b[0m\n\u001b[0m\u001b[1;32m      3\u001b[0m \u001b[0mplot_linear_transformations\u001b[0m\u001b[0;34m(\u001b[0m\u001b[0mA\u001b[0m\u001b[0;34m,\u001b[0m \u001b[0mA_inv\u001b[0m\u001b[0;34m)\u001b[0m\u001b[0;34m\u001b[0m\u001b[0;34m\u001b[0m\u001b[0m\n",
            "\u001b[0;31mNameError\u001b[0m: name 'M' is not defined"
          ]
        }
      ]
    },
    {
      "cell_type": "markdown",
      "metadata": {
        "id": "GAg4g23Lbvx2"
      },
      "source": [
        "# Exercise 3: Encoding model matrices\n",
        "\n",
        "Let's say we have a population of 3 visual neurons that respond to 3 pixel images. Each neural response is a weighted sum of the pixel image: we used this type of model in Week 1 Part 1 Exercise 2. We will now allow the pixels to have negative values.\n",
        "\n",
        "\n",
        "We will look at two different populations of 3 neurons with different weights from the pixels: population f and population g. Below, we have the system of linear equations that dictates the neuron models for each population. $x_1$, $x_2$, and $x_3$ correspond to the pixel values. $r_{f1}$, $r_{f2}$, and $r_{f3}$ correspond to the responses of neurons 1, 2, and 3 in population f. $r_{g1}$, $r_{g2}$, and $r_{g3}$ correspond to the responses of neurons 1, 2, and 3 in population g.\n",
        "\n",
        "\n",
        "\n",
        "Population f:\n",
        "$$\\begin{align}\n",
        "x_1 + 3x_2 + 4x_3 &= r_{f1} \\\\\n",
        "2x_1 + x_2 + 4x_3 &= r_{f2} \\\\\n",
        "x_1 + 5x_2 + 6x_3 &= r_{f3} \\\\\n",
        "\\end{align}$$\n",
        "\n",
        "\n",
        "\n",
        "Population g:\n",
        "$$\\begin{align}\n",
        "x_2 + x_3 &= r_{g1} \\\\\n",
        "6x_1 + 10x_2 &= r_{g2} \\\\\n",
        "3x_1 + 6x_2 + x_3 &= r_{g3} \\\\\n",
        "\\end{align}$$"
      ]
    },
    {
      "cell_type": "markdown",
      "metadata": {
        "id": "314UYci1aB2I"
      },
      "source": [
        "## A) Rewriting linear systems of equations to matrix equation\n",
        "\n",
        "We want to rewrite the above system of equations for each population in the matrix equation $F\\bar{x} = \\bar{r}_f$ where $\\bar{x}$ is the image and $\\bar{r}_f$ is the vector of neural responses in population f. What is F?\n",
        "\n",
        "\n",
        "We will do the same for population g: $G\\bar{x} = \\bar{r}_g$ where $\\bar{r}_g$ is the vector of neural responses in population g. What is G?"
      ]
    },
    {
      "cell_type": "markdown",
      "metadata": {
        "id": "Nxf1ZbidawUv"
      },
      "source": [
        "**Your math answer**"
      ]
    },
    {
      "cell_type": "markdown",
      "metadata": {
        "id": "Il-r3JLXqjci"
      },
      "source": [
        "We started with the linear system of equations view but, as always, we can think about this matrix equation in terms of a linear transformation. In particular matrices F and G are transforming vectors from a \"pixel basis\", where each element of a vector represents one pixel to a \"neural basis\" where each element represents the response of one neuron."
      ]
    },
    {
      "cell_type": "markdown",
      "metadata": {
        "id": "-EMdWlWGa0m0"
      },
      "source": [
        "## B) Solving a matrix equation\n",
        "\n",
        "We will now try to solve the matrix equation to find $\\bar{x}$ for a given $\\bar{r}_f$. What does this correspond to in the neuroscience setting (aka what is $\\bar{x}$ here)?"
      ]
    },
    {
      "cell_type": "markdown",
      "metadata": {
        "id": "2XUwD09qcgOm"
      },
      "source": [
        "**Your text answer**"
      ]
    },
    {
      "cell_type": "markdown",
      "metadata": {
        "id": "Lwc8-AAycq4c"
      },
      "source": [
        "Find $\\bar{x}$ if $$\\bar{r}_f = \\begin{bmatrix}\n",
        "1 \\\\\n",
        "1 \\\\\n",
        "2 \\\\\n",
        "\\end{bmatrix}$$\n",
        "\n",
        "\n",
        "We will use two different coding methods: you will first use `np.linalg.inv`, and then `np.linalg.solve`."
      ]
    },
    {
      "cell_type": "code",
      "metadata": {
        "id": "grSiccqTazz2",
        "colab": {
          "base_uri": "https://localhost:8080/"
        },
        "outputId": "9beed36c-fe20-47ea-d1f6-9370b5ba3fe9"
      },
      "source": [
        "# Define F\n",
        "F = np.array([[1, 3, 4], [2, 1, 4],[1, 5,6]])\n",
        "\n",
        "# Define r_f\n",
        "r_f = np.array([[1],[1],[2,]])\n",
        "# Find x using np.linalg.inv\n",
        "x_using_inv = np.linalg.inv(F) @ r_f\n",
        "\n",
        "# Find x using np.linalg.solve\n",
        "x_using_solve = np.linalg.solve(F, r_f)\n",
        "\n",
        "# Check each method resulted in the same x\n",
        "if np.all(np.isclose(x_using_inv, x_using_solve)):\n",
        "  print('Solutions match')\n",
        "else:\n",
        "  print('PROBLEM: Solutions do not match!')\n"
      ],
      "execution_count": 32,
      "outputs": [
        {
          "output_type": "stream",
          "name": "stdout",
          "text": [
            "Solutions match\n"
          ]
        }
      ]
    },
    {
      "cell_type": "markdown",
      "metadata": {
        "id": "R6noY3Kdeqtz"
      },
      "source": [
        "## C) Solving another matrix equation\n",
        "\n",
        "Try to repeat the steps in B for population g where\n",
        "$$\\bar{r}_g = \\begin{bmatrix}\n",
        "1 \\\\\n",
        "1 \\\\\n",
        "2 \\\\\n",
        "\\end{bmatrix}$$\n",
        "\n",
        "What problem do you run into?"
      ]
    },
    {
      "cell_type": "code",
      "metadata": {
        "id": "omjA-HileFEO"
      },
      "source": [
        "# Define G\n",
        "G = ...\n",
        "\n",
        "# Define r_g\n",
        "r_g = ...\n",
        "\n",
        "# Find x using np.linalg.inv\n",
        "x_using_inv = ...\n",
        "\n",
        "# Find x using np.linalg.solve\n",
        "x_using_solve = ...\n",
        "\n",
        "# Check each method resulted in the same x\n",
        "if np.all(np.isclose(x_using_inv, x_using_solve)):\n",
        "  print('Solutions match')\n",
        "else:\n",
        "  print('PROBLEM: Solutions do not match!')\n"
      ],
      "execution_count": null,
      "outputs": []
    },
    {
      "cell_type": "markdown",
      "metadata": {
        "id": "LBbstxC6fTu8"
      },
      "source": [
        "## D) Calculate the rank of F/G\n",
        "\n",
        "First think: from the video *Inverse Matrices, column space, and null space*, we know that if a n x n matrix is invertible, the matrix is not \"squishing\" space: all of $R^n$ can be reached via the transformation. Based on this, what do you expect the ranks of F and G to be based on parts B/C? (no need to explicitly answer, just discuss)\n",
        "\n",
        "\n",
        "Now compute the rank of each below and see if you were right."
      ]
    },
    {
      "cell_type": "code",
      "metadata": {
        "id": "0J313amHfqRE"
      },
      "source": [
        "rank_F = ...\n",
        "rank_G = ...\n",
        "\n",
        "print('The rank of F is '+str(rank_F))\n",
        "print('The rank of G is '+str(rank_G))\n"
      ],
      "execution_count": null,
      "outputs": []
    },
    {
      "cell_type": "markdown",
      "metadata": {
        "id": "VkCOiGlVf0-1"
      },
      "source": [
        "## E) Linearly independent or dependent columns\n",
        "\n",
        "Are the columns of F linearly dependent of independent? How do you know? How about the columns of G? How do you know? (Hint: use the words rank and column space in your answer)"
      ]
    },
    {
      "cell_type": "markdown",
      "metadata": {
        "id": "pc7AWtUHgMha"
      },
      "source": [
        "**Your text answer**"
      ]
    },
    {
      "cell_type": "markdown",
      "metadata": {
        "id": "WgFLyfu8gT6q"
      },
      "source": [
        "## F) Finding the null space\n",
        "\n",
        "Use `scipy.linalg.null_space` to find the basis of the null spaces for F and G.\n"
      ]
    },
    {
      "cell_type": "code",
      "metadata": {
        "id": "DrfxEWmohM9N",
        "colab": {
          "base_uri": "https://localhost:8080/"
        },
        "outputId": "2d80eb6c-a417-4774-d6b2-bb02015fc76c"
      },
      "source": [
        "F_null_space = scipy.linalg.null_space(F)\n",
        "#G_null_space = ...\n",
        "F_null_space"
      ],
      "execution_count": 34,
      "outputs": [
        {
          "output_type": "execute_result",
          "data": {
            "text/plain": [
              "array([], shape=(3, 0), dtype=float64)"
            ]
          },
          "metadata": {},
          "execution_count": 34
        }
      ]
    },
    {
      "cell_type": "markdown",
      "metadata": {
        "id": "S7U8p1m6h0A6"
      },
      "source": [
        "From the above computation, what is the dimension of the null space for F? For G? What does the null space correspond to in our neuroscience setting?"
      ]
    },
    {
      "cell_type": "markdown",
      "metadata": {
        "id": "X9TtXS8HjDip"
      },
      "source": [
        "**Your text answer**"
      ]
    },
    {
      "cell_type": "markdown",
      "metadata": {
        "id": "1o6O15VVvwnt"
      },
      "source": [
        "## G) Describing the populations of neurons\n",
        "\n",
        "So what does all this matrix examination tell us about the neural processing in populations f and g? Obviously this is a toy system but let's think about it.\n",
        "\n",
        "i) What is the dimensionality of the population of neural responses in population f? How about in g?\n",
        "\n",
        "ii) If we wanted to decode images from the corresponding neural responses, would we always be able to completely recover the image when looking at population f? How about population g? What does this tell us about the information loss of the neural processing?\n",
        "\n",
        "iii) If the columns of a matrix are linearly dependent, then the rows also are. What does this mean for the neural weights in population g?\n"
      ]
    },
    {
      "cell_type": "markdown",
      "metadata": {
        "id": "-xys4jQo1RB_"
      },
      "source": [
        "**Your text answer**"
      ]
    },
    {
      "cell_type": "markdown",
      "metadata": {
        "id": "pYKrYeN4iTSF"
      },
      "source": [
        "## Extra info: Invertible matrix theorem\n",
        "\n",
        "You may have noticed that F and G have a lot of differences in terms of invertibility, the rank, the dimension of the null space, the linear dependence of columns, etc.  There is a theorem that sums up a lot of these concepts: the **invertible matrix theorem**. This theorem essentially sorts square matrices into two types - invertible and not-invertible - and notes a whole bunch of qualities of each type.\n",
        "\n",
        "Take a look at the below theorem. If you have time and really want to consolidate your knowledge, think through for each statement why they're either all true or all false. A lot of the theorem stems from what you already know as it is based on definitions or basic concepts.  You do not need to memorize this theorem but it is helpful to remember that these two types of matrices exist.\n",
        "\n",
        "\n",
        "The below is an informal, incomplete encapsulation of the invertible matrix theorem (aka I'm not including every single statement):\n",
        "\n",
        "### **Invertible matrix theorem**\n",
        "\n",
        "\n",
        "Let $A$ be a square n x n matrix. The following statements are either all true or all false for this matrix:\n",
        "\n",
        "a) $A$ is an invertible matrix\n",
        "\n",
        "b) The equation $A\\bar{x} = \\bar{b}$ has only the trivial solution (aka only true if $\\bar{x} = \\bar{0}$).\n",
        "\n",
        "c) The columns of $A$ form a linearly independent set.\n",
        "\n",
        "d) The equation $A\\bar{x} = \\bar{b}$ has at least one solution for each $\\bar{b}$ in $R^n$.\n",
        "\n",
        "e) The columns of A span $R^n$\n",
        "\n",
        "f) $A^T$ is an invertible matrix\n",
        "\n",
        "g) The columns of A form a basis of $R^n$\n",
        "\n",
        "h) Col A (the column space of A) = $R^n$\n",
        "\n",
        "i) rank A = n\n",
        "\n",
        "j) Nul A (the null space of A) = {$\\bar{0}$}\n",
        "\n",
        "k) dim Nul A (the dimension of the null space) = 0\n",
        "\n",
        "l) The determinant of A is not 0\n",
        "\n",
        "\n",
        "\n"
      ]
    }
  ]
}