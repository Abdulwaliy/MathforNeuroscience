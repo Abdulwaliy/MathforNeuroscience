{
  "nbformat": 4,
  "nbformat_minor": 0,
  "metadata": {
    "colab": {
      "provenance": [],
      "toc_visible": true,
      "include_colab_link": true
    },
    "kernelspec": {
      "name": "python3",
      "display_name": "Python 3"
    },
    "widgets": {
      "application/vnd.jupyter.widget-state+json": {
        "ba9ffbe220e24165b7e233d01b20877e": {
          "model_module": "@jupyter-widgets/controls",
          "model_name": "VBoxModel",
          "model_module_version": "1.5.0",
          "state": {
            "_dom_classes": [
              "widget-interact"
            ],
            "_model_module": "@jupyter-widgets/controls",
            "_model_module_version": "1.5.0",
            "_model_name": "VBoxModel",
            "_view_count": null,
            "_view_module": "@jupyter-widgets/controls",
            "_view_module_version": "1.5.0",
            "_view_name": "VBoxView",
            "box_style": "",
            "children": [
              "IPY_MODEL_5e8affa259b346dd91b914e4dbb7d15c",
              "IPY_MODEL_57c82efa03d8413aa9e433c3828a175e",
              "IPY_MODEL_af4b0626ccc34fa59d0fe5023d716342"
            ],
            "layout": "IPY_MODEL_0592754d695c4a9bae3a53cbac4534cb"
          }
        },
        "5e8affa259b346dd91b914e4dbb7d15c": {
          "model_module": "@jupyter-widgets/controls",
          "model_name": "FloatSliderModel",
          "model_module_version": "1.5.0",
          "state": {
            "_dom_classes": [],
            "_model_module": "@jupyter-widgets/controls",
            "_model_module_version": "1.5.0",
            "_model_name": "FloatSliderModel",
            "_view_count": null,
            "_view_module": "@jupyter-widgets/controls",
            "_view_module_version": "1.5.0",
            "_view_name": "FloatSliderView",
            "continuous_update": true,
            "description": "a",
            "description_tooltip": null,
            "disabled": false,
            "layout": "IPY_MODEL_e49a124fea3646a292186a49dbc2454e",
            "max": 2,
            "min": -2,
            "orientation": "horizontal",
            "readout": true,
            "readout_format": ".2f",
            "step": 0.1,
            "style": "IPY_MODEL_fe1c36c6c341431595f0ad0e7c66016d",
            "value": 1
          }
        },
        "57c82efa03d8413aa9e433c3828a175e": {
          "model_module": "@jupyter-widgets/controls",
          "model_name": "FloatSliderModel",
          "model_module_version": "1.5.0",
          "state": {
            "_dom_classes": [],
            "_model_module": "@jupyter-widgets/controls",
            "_model_module_version": "1.5.0",
            "_model_name": "FloatSliderModel",
            "_view_count": null,
            "_view_module": "@jupyter-widgets/controls",
            "_view_module_version": "1.5.0",
            "_view_name": "FloatSliderView",
            "continuous_update": true,
            "description": "b",
            "description_tooltip": null,
            "disabled": false,
            "layout": "IPY_MODEL_f32f89998dcf4b29829dd83f97ad2d41",
            "max": 2,
            "min": -2,
            "orientation": "horizontal",
            "readout": true,
            "readout_format": ".2f",
            "step": 0.1,
            "style": "IPY_MODEL_9fc8fe15df9441a694552d68f75f77e7",
            "value": 1.6
          }
        },
        "af4b0626ccc34fa59d0fe5023d716342": {
          "model_module": "@jupyter-widgets/output",
          "model_name": "OutputModel",
          "model_module_version": "1.0.0",
          "state": {
            "_dom_classes": [],
            "_model_module": "@jupyter-widgets/output",
            "_model_module_version": "1.0.0",
            "_model_name": "OutputModel",
            "_view_count": null,
            "_view_module": "@jupyter-widgets/output",
            "_view_module_version": "1.0.0",
            "_view_name": "OutputView",
            "layout": "IPY_MODEL_99eabf8d4b3f4fb993b35b6556b14409",
            "msg_id": "",
            "outputs": [
              {
                "output_type": "stream",
                "name": "stderr",
                "text": [
                  "<ipython-input-3-c01590b1c690>:31: MatplotlibDeprecationWarning: The legendHandles attribute was deprecated in Matplotlib 3.7 and will be removed two minor releases later. Use legend_handles instead.\n",
                  "  for handle, label in zip(leg.legendHandles, leg.texts):\n"
                ]
              }
            ]
          }
        },
        "0592754d695c4a9bae3a53cbac4534cb": {
          "model_module": "@jupyter-widgets/base",
          "model_name": "LayoutModel",
          "model_module_version": "1.2.0",
          "state": {
            "_model_module": "@jupyter-widgets/base",
            "_model_module_version": "1.2.0",
            "_model_name": "LayoutModel",
            "_view_count": null,
            "_view_module": "@jupyter-widgets/base",
            "_view_module_version": "1.2.0",
            "_view_name": "LayoutView",
            "align_content": null,
            "align_items": null,
            "align_self": null,
            "border": null,
            "bottom": null,
            "display": null,
            "flex": null,
            "flex_flow": null,
            "grid_area": null,
            "grid_auto_columns": null,
            "grid_auto_flow": null,
            "grid_auto_rows": null,
            "grid_column": null,
            "grid_gap": null,
            "grid_row": null,
            "grid_template_areas": null,
            "grid_template_columns": null,
            "grid_template_rows": null,
            "height": null,
            "justify_content": null,
            "justify_items": null,
            "left": null,
            "margin": null,
            "max_height": null,
            "max_width": null,
            "min_height": null,
            "min_width": null,
            "object_fit": null,
            "object_position": null,
            "order": null,
            "overflow": null,
            "overflow_x": null,
            "overflow_y": null,
            "padding": null,
            "right": null,
            "top": null,
            "visibility": null,
            "width": null
          }
        },
        "e49a124fea3646a292186a49dbc2454e": {
          "model_module": "@jupyter-widgets/base",
          "model_name": "LayoutModel",
          "model_module_version": "1.2.0",
          "state": {
            "_model_module": "@jupyter-widgets/base",
            "_model_module_version": "1.2.0",
            "_model_name": "LayoutModel",
            "_view_count": null,
            "_view_module": "@jupyter-widgets/base",
            "_view_module_version": "1.2.0",
            "_view_name": "LayoutView",
            "align_content": null,
            "align_items": null,
            "align_self": null,
            "border": null,
            "bottom": null,
            "display": null,
            "flex": null,
            "flex_flow": null,
            "grid_area": null,
            "grid_auto_columns": null,
            "grid_auto_flow": null,
            "grid_auto_rows": null,
            "grid_column": null,
            "grid_gap": null,
            "grid_row": null,
            "grid_template_areas": null,
            "grid_template_columns": null,
            "grid_template_rows": null,
            "height": null,
            "justify_content": null,
            "justify_items": null,
            "left": null,
            "margin": null,
            "max_height": null,
            "max_width": null,
            "min_height": null,
            "min_width": null,
            "object_fit": null,
            "object_position": null,
            "order": null,
            "overflow": null,
            "overflow_x": null,
            "overflow_y": null,
            "padding": null,
            "right": null,
            "top": null,
            "visibility": null,
            "width": null
          }
        },
        "fe1c36c6c341431595f0ad0e7c66016d": {
          "model_module": "@jupyter-widgets/controls",
          "model_name": "SliderStyleModel",
          "model_module_version": "1.5.0",
          "state": {
            "_model_module": "@jupyter-widgets/controls",
            "_model_module_version": "1.5.0",
            "_model_name": "SliderStyleModel",
            "_view_count": null,
            "_view_module": "@jupyter-widgets/base",
            "_view_module_version": "1.2.0",
            "_view_name": "StyleView",
            "description_width": "",
            "handle_color": null
          }
        },
        "f32f89998dcf4b29829dd83f97ad2d41": {
          "model_module": "@jupyter-widgets/base",
          "model_name": "LayoutModel",
          "model_module_version": "1.2.0",
          "state": {
            "_model_module": "@jupyter-widgets/base",
            "_model_module_version": "1.2.0",
            "_model_name": "LayoutModel",
            "_view_count": null,
            "_view_module": "@jupyter-widgets/base",
            "_view_module_version": "1.2.0",
            "_view_name": "LayoutView",
            "align_content": null,
            "align_items": null,
            "align_self": null,
            "border": null,
            "bottom": null,
            "display": null,
            "flex": null,
            "flex_flow": null,
            "grid_area": null,
            "grid_auto_columns": null,
            "grid_auto_flow": null,
            "grid_auto_rows": null,
            "grid_column": null,
            "grid_gap": null,
            "grid_row": null,
            "grid_template_areas": null,
            "grid_template_columns": null,
            "grid_template_rows": null,
            "height": null,
            "justify_content": null,
            "justify_items": null,
            "left": null,
            "margin": null,
            "max_height": null,
            "max_width": null,
            "min_height": null,
            "min_width": null,
            "object_fit": null,
            "object_position": null,
            "order": null,
            "overflow": null,
            "overflow_x": null,
            "overflow_y": null,
            "padding": null,
            "right": null,
            "top": null,
            "visibility": null,
            "width": null
          }
        },
        "9fc8fe15df9441a694552d68f75f77e7": {
          "model_module": "@jupyter-widgets/controls",
          "model_name": "SliderStyleModel",
          "model_module_version": "1.5.0",
          "state": {
            "_model_module": "@jupyter-widgets/controls",
            "_model_module_version": "1.5.0",
            "_model_name": "SliderStyleModel",
            "_view_count": null,
            "_view_module": "@jupyter-widgets/base",
            "_view_module_version": "1.2.0",
            "_view_name": "StyleView",
            "description_width": "",
            "handle_color": null
          }
        },
        "99eabf8d4b3f4fb993b35b6556b14409": {
          "model_module": "@jupyter-widgets/base",
          "model_name": "LayoutModel",
          "model_module_version": "1.2.0",
          "state": {
            "_model_module": "@jupyter-widgets/base",
            "_model_module_version": "1.2.0",
            "_model_name": "LayoutModel",
            "_view_count": null,
            "_view_module": "@jupyter-widgets/base",
            "_view_module_version": "1.2.0",
            "_view_name": "LayoutView",
            "align_content": null,
            "align_items": null,
            "align_self": null,
            "border": null,
            "bottom": null,
            "display": null,
            "flex": null,
            "flex_flow": null,
            "grid_area": null,
            "grid_auto_columns": null,
            "grid_auto_flow": null,
            "grid_auto_rows": null,
            "grid_column": null,
            "grid_gap": null,
            "grid_row": null,
            "grid_template_areas": null,
            "grid_template_columns": null,
            "grid_template_rows": null,
            "height": null,
            "justify_content": null,
            "justify_items": null,
            "left": null,
            "margin": null,
            "max_height": null,
            "max_width": null,
            "min_height": null,
            "min_width": null,
            "object_fit": null,
            "object_position": null,
            "order": null,
            "overflow": null,
            "overflow_x": null,
            "overflow_y": null,
            "padding": null,
            "right": null,
            "top": null,
            "visibility": null,
            "width": null
          }
        },
        "12ca817a4e394967a0a19e5b91bbba7f": {
          "model_module": "@jupyter-widgets/controls",
          "model_name": "VBoxModel",
          "model_module_version": "1.5.0",
          "state": {
            "_dom_classes": [
              "widget-interact"
            ],
            "_model_module": "@jupyter-widgets/controls",
            "_model_module_version": "1.5.0",
            "_model_name": "VBoxModel",
            "_view_count": null,
            "_view_module": "@jupyter-widgets/controls",
            "_view_module_version": "1.5.0",
            "_view_name": "VBoxView",
            "box_style": "",
            "children": [
              "IPY_MODEL_36e8c763aa664fdaa934c84d76c7a230",
              "IPY_MODEL_7cf0af7be76746928cf8b4612b711800"
            ],
            "layout": "IPY_MODEL_9b25c68349ea4b73af6bb87fb68b9212"
          }
        },
        "36e8c763aa664fdaa934c84d76c7a230": {
          "model_module": "@jupyter-widgets/controls",
          "model_name": "FloatSliderModel",
          "model_module_version": "1.5.0",
          "state": {
            "_dom_classes": [],
            "_model_module": "@jupyter-widgets/controls",
            "_model_module_version": "1.5.0",
            "_model_name": "FloatSliderModel",
            "_view_count": null,
            "_view_module": "@jupyter-widgets/controls",
            "_view_module_version": "1.5.0",
            "_view_name": "FloatSliderView",
            "continuous_update": true,
            "description": "dot_prod",
            "description_tooltip": null,
            "disabled": false,
            "layout": "IPY_MODEL_59d2478b2a204724bb46dfe57b3d1917",
            "max": 12.3,
            "min": -12.3,
            "orientation": "horizontal",
            "readout": true,
            "readout_format": ".2f",
            "step": 0.1,
            "style": "IPY_MODEL_203a72f1f2a2410590d1b4001e5698ce",
            "value": 0
          }
        },
        "7cf0af7be76746928cf8b4612b711800": {
          "model_module": "@jupyter-widgets/output",
          "model_name": "OutputModel",
          "model_module_version": "1.0.0",
          "state": {
            "_dom_classes": [],
            "_model_module": "@jupyter-widgets/output",
            "_model_module_version": "1.0.0",
            "_model_name": "OutputModel",
            "_view_count": null,
            "_view_module": "@jupyter-widgets/output",
            "_view_module_version": "1.0.0",
            "_view_name": "OutputView",
            "layout": "IPY_MODEL_3743ede392e448bd829cd41c74ebba73",
            "msg_id": "",
            "outputs": []
          }
        },
        "9b25c68349ea4b73af6bb87fb68b9212": {
          "model_module": "@jupyter-widgets/base",
          "model_name": "LayoutModel",
          "model_module_version": "1.2.0",
          "state": {
            "_model_module": "@jupyter-widgets/base",
            "_model_module_version": "1.2.0",
            "_model_name": "LayoutModel",
            "_view_count": null,
            "_view_module": "@jupyter-widgets/base",
            "_view_module_version": "1.2.0",
            "_view_name": "LayoutView",
            "align_content": null,
            "align_items": null,
            "align_self": null,
            "border": null,
            "bottom": null,
            "display": null,
            "flex": null,
            "flex_flow": null,
            "grid_area": null,
            "grid_auto_columns": null,
            "grid_auto_flow": null,
            "grid_auto_rows": null,
            "grid_column": null,
            "grid_gap": null,
            "grid_row": null,
            "grid_template_areas": null,
            "grid_template_columns": null,
            "grid_template_rows": null,
            "height": null,
            "justify_content": null,
            "justify_items": null,
            "left": null,
            "margin": null,
            "max_height": null,
            "max_width": null,
            "min_height": null,
            "min_width": null,
            "object_fit": null,
            "object_position": null,
            "order": null,
            "overflow": null,
            "overflow_x": null,
            "overflow_y": null,
            "padding": null,
            "right": null,
            "top": null,
            "visibility": null,
            "width": null
          }
        },
        "59d2478b2a204724bb46dfe57b3d1917": {
          "model_module": "@jupyter-widgets/base",
          "model_name": "LayoutModel",
          "model_module_version": "1.2.0",
          "state": {
            "_model_module": "@jupyter-widgets/base",
            "_model_module_version": "1.2.0",
            "_model_name": "LayoutModel",
            "_view_count": null,
            "_view_module": "@jupyter-widgets/base",
            "_view_module_version": "1.2.0",
            "_view_name": "LayoutView",
            "align_content": null,
            "align_items": null,
            "align_self": null,
            "border": null,
            "bottom": null,
            "display": null,
            "flex": null,
            "flex_flow": null,
            "grid_area": null,
            "grid_auto_columns": null,
            "grid_auto_flow": null,
            "grid_auto_rows": null,
            "grid_column": null,
            "grid_gap": null,
            "grid_row": null,
            "grid_template_areas": null,
            "grid_template_columns": null,
            "grid_template_rows": null,
            "height": null,
            "justify_content": null,
            "justify_items": null,
            "left": null,
            "margin": null,
            "max_height": null,
            "max_width": null,
            "min_height": null,
            "min_width": null,
            "object_fit": null,
            "object_position": null,
            "order": null,
            "overflow": null,
            "overflow_x": null,
            "overflow_y": null,
            "padding": null,
            "right": null,
            "top": null,
            "visibility": null,
            "width": null
          }
        },
        "203a72f1f2a2410590d1b4001e5698ce": {
          "model_module": "@jupyter-widgets/controls",
          "model_name": "SliderStyleModel",
          "model_module_version": "1.5.0",
          "state": {
            "_model_module": "@jupyter-widgets/controls",
            "_model_module_version": "1.5.0",
            "_model_name": "SliderStyleModel",
            "_view_count": null,
            "_view_module": "@jupyter-widgets/base",
            "_view_module_version": "1.2.0",
            "_view_name": "StyleView",
            "description_width": "",
            "handle_color": null
          }
        },
        "3743ede392e448bd829cd41c74ebba73": {
          "model_module": "@jupyter-widgets/base",
          "model_name": "LayoutModel",
          "model_module_version": "1.2.0",
          "state": {
            "_model_module": "@jupyter-widgets/base",
            "_model_module_version": "1.2.0",
            "_model_name": "LayoutModel",
            "_view_count": null,
            "_view_module": "@jupyter-widgets/base",
            "_view_module_version": "1.2.0",
            "_view_name": "LayoutView",
            "align_content": null,
            "align_items": null,
            "align_self": null,
            "border": null,
            "bottom": null,
            "display": null,
            "flex": null,
            "flex_flow": null,
            "grid_area": null,
            "grid_auto_columns": null,
            "grid_auto_flow": null,
            "grid_auto_rows": null,
            "grid_column": null,
            "grid_gap": null,
            "grid_row": null,
            "grid_template_areas": null,
            "grid_template_columns": null,
            "grid_template_rows": null,
            "height": null,
            "justify_content": null,
            "justify_items": null,
            "left": null,
            "margin": null,
            "max_height": null,
            "max_width": null,
            "min_height": null,
            "min_width": null,
            "object_fit": null,
            "object_position": null,
            "order": null,
            "overflow": null,
            "overflow_x": null,
            "overflow_y": null,
            "padding": null,
            "right": null,
            "top": null,
            "visibility": null,
            "width": null
          }
        }
      }
    }
  },
  "cells": [
    {
      "cell_type": "markdown",
      "metadata": {
        "id": "view-in-github",
        "colab_type": "text"
      },
      "source": [
        "<a href=\"https://colab.research.google.com/github/Abdulwaliy/MathforNeuroscience/blob/main/Linear_Algebra_I%2C_Vectors_Week1Tutorial1.ipynb\" target=\"_parent\"><img src=\"https://colab.research.google.com/assets/colab-badge.svg\" alt=\"Open In Colab\"/></a>"
      ]
    },
    {
      "cell_type": "markdown",
      "metadata": {
        "id": "S9l0lyqLvkW7"
      },
      "source": [
        "# Tutorial 1\n",
        "\n",
        "**Linear Algebra I, Vectors**\n",
        "\n",
        "**[insert your name]**\n",
        "\n",
        "**Important reminders**: Before starting, click \"File -> Save a copy in Drive\". Produce a pdf for submission by \"File -> Print\" and then choose \"Save to PDF\".\n",
        "\n",
        "To complete this tutorial, you should have watched Video 1.1: Vectors and Video 1.2: Vector operations.\n",
        "\n",
        "**Learning objectives**\n",
        "* Review and use vector properties and operations such as vector length, scalar multiplication, and vector addition\n",
        "* Gain a better understanding of the dot product\n",
        "* Think about optimal stimuli in the context of linear algebra\n",
        "* Gain more intuition about correlation coefficients\n"
      ]
    },
    {
      "cell_type": "code",
      "metadata": {
        "id": "cv9HSBNPyLV9"
      },
      "source": [
        "# Imports\n",
        "import numpy as np\n",
        "import matplotlib.pyplot as plt\n",
        "import matplotlib\n",
        "import ipywidgets as widgets\n",
        "\n",
        "# Plotting parameters\n",
        "matplotlib.rcParams.update({'font.size': 22})"
      ],
      "execution_count": 1,
      "outputs": []
    },
    {
      "cell_type": "code",
      "metadata": {
        "id": "ZIdPVYl9TzmK"
      },
      "source": [
        "# @title Hidden functions\n",
        "\n",
        "def generate_unit_vec(dim=4):\n",
        "  \"\"\"Generate random unit vector with only positive values. Please note that this\n",
        "  is not at all a principled correct way of doing this (not truly random)\n",
        "\n",
        "  Args:\n",
        "    dim (scalar): dimension of the unit vector\n",
        "\n",
        "  \"\"\"\n",
        "  vec = -1* np.ones(dim,)\n",
        "  while np.any(vec<0):\n",
        "    vec = np.random.randn(4,)\n",
        "  unit_vec = vec/np.linalg.norm(vec)\n",
        "  return unit_vec\n",
        "\n",
        "def plot_responses_vs_angles(responses, angles):\n",
        "  \"\"\" Plot neural responses as a function of the angle between the pixel vector\n",
        "  and weight vector.\n",
        "\n",
        "  Args:\n",
        "    responses (ndarray): the responses of the neuron to each image (n_images x 1)\n",
        "    angles (ndarray): the corresponding angle of each image to the weight vector (n_images x 1)\n",
        "\n",
        "  \"\"\"\n",
        "\n",
        "  fig, ax = plt.subplots(1, 1, figsize=(10,10))\n",
        "  ax.plot(angles, responses, 'o', color = '#0DD3C4')\n",
        "  ax.set(xlabel='Angle (degrees)', ylabel='Neural response')"
      ],
      "execution_count": 16,
      "outputs": []
    },
    {
      "cell_type": "markdown",
      "metadata": {
        "id": "_DjeN9TZyEZL"
      },
      "source": [
        "# Coding tips\n",
        "\n",
        "We will mostly use numpy in this course, especially for the linear algebra section. We can use 1D numpy arrays for vectors: for example we could write $\\bar{x}$ = [4, 5] as `x = np.array([4, 5])`.\n",
        "\n"
      ]
    },
    {
      "cell_type": "code",
      "metadata": {
        "id": "F5XKLvVcHrw6"
      },
      "source": [
        "# Defining vectors\n",
        "x = np.array([4, 5])\n",
        "y = np.array([1, 2])\n",
        "\n",
        "# Length of a vector\n",
        "length_of_x = np.linalg.norm(x)\n",
        "\n",
        "# Scalar multiplication\n",
        "scalar_multiplied_x = 5*x\n",
        "\n",
        "# Vector addition\n",
        "summed_vectors = x + y\n",
        "\n",
        "# Dot product\n",
        "dot_prod = np.dot(x, y)"
      ],
      "execution_count": 2,
      "outputs": []
    },
    {
      "cell_type": "markdown",
      "metadata": {
        "id": "aR7BubpelgYq"
      },
      "source": [
        "# Exercise 1: Vector addition & scalar multiplication\n",
        "\n",
        "In the following demo, we will demonstrate a **linear combination** of two vectors, $\\mathbf{x}$ and $\\mathbf{y}$ (where we multiply each vector by a scalar value and multiply):\n",
        "\n",
        "$$\\mathbf{z} = a\\mathbf{x} + b\\mathbf{y}$$\n",
        "\n",
        "where $\\mathbf{x}$ and $\\mathbf{y}$ are vectors, while $a$ and $b$ are scalars. Specifically, $\\mathbf{x} = \\begin{bmatrix}3 \\\\ 1 \\\\\\end{bmatrix}$ and $\\mathbf{y} = \\begin{bmatrix}-1 \\\\ 2 \\\\\\end{bmatrix}$.\n",
        "\n",
        "\n",
        "You will play with the scalar multiples $a$ and $b$ to visualize both scalar multiplication and vector addition. Think and talk through the following questions:\n",
        "\n",
        "\n",
        "1.   How does $a\\mathbf{x}$ compare to $\\mathbf{x}$ when $a$ is negative?\n",
        "2.   How does $a\\mathbf{x}$ compare to $\\mathbf{x}$ when $a$ is a fraction?\n",
        "3.  Can you get $\\mathbf{z}$ to point to anywhere in the 2D space with combinations of $a$ and $b$?\n",
        "4.  Would this be the case no matter what $\\mathbf{x}$ and $\\mathbf{y}$ are, as long as they are both 2D vectors?"
      ]
    },
    {
      "cell_type": "markdown",
      "source": [
        "*YOUR ANSWERS HERE*"
      ],
      "metadata": {
        "id": "ZEqZpGQ9pHs_"
      }
    },
    {
      "cell_type": "code",
      "metadata": {
        "id": "Zl2JXCLImd7M",
        "colab": {
          "base_uri": "https://localhost:8080/",
          "height": 1000,
          "referenced_widgets": [
            "ba9ffbe220e24165b7e233d01b20877e",
            "5e8affa259b346dd91b914e4dbb7d15c",
            "57c82efa03d8413aa9e433c3828a175e",
            "af4b0626ccc34fa59d0fe5023d716342",
            "0592754d695c4a9bae3a53cbac4534cb",
            "e49a124fea3646a292186a49dbc2454e",
            "fe1c36c6c341431595f0ad0e7c66016d",
            "f32f89998dcf4b29829dd83f97ad2d41",
            "9fc8fe15df9441a694552d68f75f77e7",
            "99eabf8d4b3f4fb993b35b6556b14409"
          ]
        },
        "outputId": "23bec5b4-039b-4f94-d768-bb958ccddc27"
      },
      "source": [
        "#@markdown Make sure you execute this cell to enable the widget! Move the sliders for “a” and “b”. After releasing the slider, be patient for a couple of seconds to see the desired change.\n",
        "\n",
        "\n",
        "def plot_arrows(x, y, a_times_x, b_times_y):\n",
        "  fig, ax = plt.subplots(figsize=(10, 7))\n",
        "\n",
        "  ax.spines['top'].set_color('none')\n",
        "  ax.spines['bottom'].set_position('zero')\n",
        "  ax.spines['left'].set_position('zero')\n",
        "  ax.spines['right'].set_color('none')\n",
        "\n",
        "  ax.set_aspect('equal', adjustable='box')\n",
        "  ax.set(xlim = [-10, 10], ylim = [-10, 10], xticks = np.arange(-10, 10), yticks = np.arange(-10, 10), xticklabels = [], yticklabels = [])\n",
        "\n",
        "  ax.grid(alpha=.4)\n",
        "\n",
        "  z = a_times_x + b_times_y\n",
        "  z_arr = ax.arrow(0, 0, z[0], z[1], width=.08, color='k', length_includes_head = True);\n",
        "\n",
        "  x_orig, = ax.plot([0, x[0]], [0, x[1]], '--', color='#648FFF')\n",
        "  y_orig, = ax.plot([0, y[0]], [0, y[1]], '--',  color='#DC267F')\n",
        "\n",
        "  ax_arr = ax.arrow(0, 0, a_times_x[0], a_times_x[1], width=.08, color='#648FFF', length_includes_head = True);\n",
        "  by_arr = ax.arrow(0, 0, b_times_y[0], b_times_y[1], width=.08, color='#DC267F', length_includes_head = True);\n",
        "\n",
        "  ax.plot([a_times_x[0], z[0]], [a_times_x[1], z[1]], '--k')\n",
        "  ax.plot([b_times_y[0], z[0]], [b_times_y[1], z[1]], '--k')\n",
        "\n",
        "\n",
        "  leg = ax.legend([x_orig, y_orig, ax_arr, by_arr, z_arr], [r\"$\\mathbf{x}$\", r\"$\\mathbf{y}$\", r\"$a\\mathbf{x}$\", r\"$b\\mathbf{y}$\", r\"$\\mathbf{z} = a\\mathbf{x} + b\\mathbf{y}$\"], handlelength = 2, fontsize = 25, loc = 'center left', bbox_to_anchor=(1.05, .5))\n",
        "  for handle, label in zip(leg.legendHandles, leg.texts):\n",
        "      try:\n",
        "          label.set_color(handle.get_facecolor())\n",
        "      except:\n",
        "          label.set_color(handle.get_color())\n",
        "      #handle.set_visible(False)\n",
        "\n",
        "@widgets.interact(a = widgets.FloatSlider(value=1.0, min=-2, max=2, step=0.1), b = widgets.FloatSlider(value=1.0, min=-2, max=2, step=0.1))\n",
        "def plot_linear_combination(a, b):\n",
        "  x = np.array([3, 1])\n",
        "  y = np.array([-1, 2])\n",
        "\n",
        "  plot_arrows(x, y, a*x, b*y)"
      ],
      "execution_count": 3,
      "outputs": [
        {
          "output_type": "display_data",
          "data": {
            "text/plain": [
              "interactive(children=(FloatSlider(value=1.0, description='a', max=2.0, min=-2.0), FloatSlider(value=1.0, descr…"
            ],
            "application/vnd.jupyter.widget-view+json": {
              "version_major": 2,
              "version_minor": 0,
              "model_id": "ba9ffbe220e24165b7e233d01b20877e"
            }
          },
          "metadata": {}
        },
        {
          "output_type": "display_data",
          "data": {
            "text/plain": [
              "<Figure size 1000x700 with 1 Axes>"
            ],
            "image/png": "[encoded data removed]"
          },
          "metadata": {}
        },
        {
          "output_type": "display_data",
          "data": {
            "text/plain": [
              "<Figure size 1000x700 with 1 Axes>"
            ],
            "image/png": "[encoded data removed]"
          },
          "metadata": {}
        },
        {
          "output_type": "display_data",
          "data": {
            "text/plain": [
              "<Figure size 1000x700 with 1 Axes>"
            ],
            "image/png": "[encoded data removed]"
          },
          "metadata": {}
        }
      ]
    },
    {
      "cell_type": "markdown",
      "metadata": {
        "id": "NPASg1qGvxze"
      },
      "source": [
        "# Exercise 2: Dot product geometrical properties\n",
        "\n",
        "In this exercise, we will explore and prove the relationship between the dot product of two vectors and the angle between them.\n",
        "\n"
      ]
    },
    {
      "cell_type": "markdown",
      "metadata": {
        "id": "EZUpF-pyxafi"
      },
      "source": [
        "### A) Interactive demo\n",
        "\n",
        "First, use the following interactive demo to change the dot product of two vectors and see what happens to them (under the constraint that each vector stays the same length).\n"
      ]
    },
    {
      "cell_type": "code",
      "metadata": {
        "id": "dvdHSl9IvqeT",
        "cellView": "form",
        "colab": {
          "base_uri": "https://localhost:8080/",
          "height": 1000,
          "referenced_widgets": [
            "12ca817a4e394967a0a19e5b91bbba7f",
            "36e8c763aa664fdaa934c84d76c7a230",
            "7cf0af7be76746928cf8b4612b711800",
            "9b25c68349ea4b73af6bb87fb68b9212",
            "59d2478b2a204724bb46dfe57b3d1917",
            "203a72f1f2a2410590d1b4001e5698ce",
            "3743ede392e448bd829cd41c74ebba73"
          ]
        },
        "outputId": "a6d739ff-365a-442e-8b03-7ffb11d1296e"
      },
      "source": [
        "#@title\n",
        "\n",
        "#@markdown Make sure you execute this cell to enable the widget!\n",
        "\n",
        "def solve_equations(dot_prod, x = [4, 1], norm_x = np.sqrt(17), norm_y = 3):\n",
        "  i = 0 if dot_prod < 0 else 1\n",
        "  y1 = np.roots([17, -8*dot_prod, dot_prod**2-9])[i]\n",
        "  y2 = dot_prod - 4*y1\n",
        "  y = [y1, y2]\n",
        "  return y\n",
        "\n",
        "def plot_arrows(x, y):\n",
        "  fig, ax = plt.subplots(figsize=(7, 7))\n",
        "\n",
        "  ax.axhline(linewidth=1, color='k') #adds thick red line @ y=0\n",
        "  ax.axvline(linewidth=1, color='k')\n",
        "  #ax.grid()\n",
        "  ax.set_xlim([-6, 6])\n",
        "  ax.set_ylim([-6, 6])\n",
        "  ax.axis('Off')\n",
        "\n",
        "\n",
        "  ax.arrow(0, 0, x[0], x[1], width=.08, color='#01DFD7');\n",
        "  ax.arrow(0, 0, y[0], y[1], width=.08, color='#0080FF');\n",
        "\n",
        "\n",
        "@widgets.interact(dot_prod=widgets.FloatSlider(value=1.0, min=-12.3, max=12.3, step=0.1))\n",
        "def plot_data_estimate(dot_prod):\n",
        "  y = solve_equations(dot_prod)\n",
        "  plot_arrows([4, 1], y)\n"
      ],
      "execution_count": 5,
      "outputs": [
        {
          "output_type": "display_data",
          "data": {
            "text/plain": [
              "interactive(children=(FloatSlider(value=1.0, description='dot_prod', max=12.3, min=-12.3), Output()), _dom_cla…"
            ],
            "application/vnd.jupyter.widget-view+json": {
              "version_major": 2,
              "version_minor": 0,
              "model_id": "12ca817a4e394967a0a19e5b91bbba7f"
            }
          },
          "metadata": {}
        },
        {
          "output_type": "display_data",
          "data": {
            "text/plain": [
              "<Figure size 700x700 with 1 Axes>"
            ],
            "image/png": "[encoded data removed]"
          },
          "metadata": {}
        },
        {
          "output_type": "display_data",
          "data": {
            "text/plain": [
              "<Figure size 700x700 with 1 Axes>"
            ],
            "image/png": "[encoded data removed]"
          },
          "metadata": {}
        },
        {
          "output_type": "display_data",
          "data": {
            "text/plain": [
              "<Figure size 700x700 with 1 Axes>"
            ],
            "image/png": "[encoded data removed]"
          },
          "metadata": {}
        },
        {
          "output_type": "display_data",
          "data": {
            "text/plain": [
              "<Figure size 700x700 with 1 Axes>"
            ],
            "image/png": "[encoded data removed]"
          },
          "metadata": {}
        },
        {
          "output_type": "display_data",
          "data": {
            "text/plain": [
              "<Figure size 700x700 with 1 Axes>"
            ],
            "image/png": "[encoded data removed]"
          },
          "metadata": {}
        },
        {
          "output_type": "display_data",
          "data": {
            "text/plain": [
              "<Figure size 700x700 with 1 Axes>"
            ],
            "image/png": "[encoded data removed]"
          },
          "metadata": {}
        },
        {
          "output_type": "display_data",
          "data": {
            "text/plain": [
              "<Figure size 700x700 with 1 Axes>"
            ],
            "image/png": "[encoded data removed]"
          },
          "metadata": {}
        },
        {
          "output_type": "display_data",
          "data": {
            "text/plain": [
              "<Figure size 700x700 with 1 Axes>"
            ],
            "image/png": "[encoded data removed]"
          },
          "metadata": {}
        },
        {
          "output_type": "display_data",
          "data": {
            "text/plain": [
              "<Figure size 700x700 with 1 Axes>"
            ],
            "image/png": "[encoded data removed]"
          },
          "metadata": {}
        },
        {
          "output_type": "display_data",
          "data": {
            "text/plain": [
              "<Figure size 700x700 with 1 Axes>"
            ],
            "image/png": "[encoded data removed]"
          },
          "metadata": {}
        },
        {
          "output_type": "display_data",
          "data": {
            "text/plain": [
              "<Figure size 700x700 with 1 Axes>"
            ],
            "image/png": "[encoded data removed]"
          },
          "metadata": {}
        }
      ]
    },
    {
      "cell_type": "markdown",
      "metadata": {
        "id": "GTTbfzJ4xgj9"
      },
      "source": [
        "i) Does the angle between vectors increase or decrease as the dot product increases?\n",
        "\n",
        "ii) Does it seem like anything is special about a dot product of 0?\n"
      ]
    },
    {
      "cell_type": "markdown",
      "source": [
        "*YOUR ANSWERS HERE*"
      ],
      "metadata": {
        "id": "Y6oIrJA4pcYk"
      }
    },
    {
      "cell_type": "markdown",
      "metadata": {
        "id": "EJDt8cxRpRuy"
      },
      "source": [
        "It turns out that there is a direct relationship between the dot product of two vecors and the angle between them. **The dot product is equal to the length of vector 1 multiplied by the length of vector 2 multiplied by the cosine of the angle**:\n",
        "\n",
        "$$ \\bar{x} \\cdot \\bar{y} =  ||\\bar{x}|| ||\\bar{y}|| cos(\\theta) $$\n"
      ]
    },
    {
      "cell_type": "markdown",
      "metadata": {
        "id": "yknFa-Emxcon"
      },
      "source": [
        "### B) (Optional) Proof of relationship\n",
        "\n",
        "We can work through a guided proof of this relationship - our first proof! Note that this is optional: move on and return to this if you have the time."
      ]
    },
    {
      "cell_type": "markdown",
      "metadata": {
        "id": "MnIPed7LMg_n"
      },
      "source": [
        "![picture](https://drive.google.com/uc?export=view&id=1Lxj0dY_8CpgMhR_SSeRuQdO6-AYpwgj6)\n"
      ]
    },
    {
      "cell_type": "markdown",
      "metadata": {
        "id": "raZcEnn3KBeB"
      },
      "source": [
        "i) Start by using the law of cosines to write out a formula for $||\\bar{a}||^2$\n",
        "\n",
        "ii) Next, figure out what $||\\bar{a}||$ equals in terms of $\\bar{x}$ and $\\bar{y}$ (hint: think about vector operations/stacking vectors)\n",
        "\n",
        "iii) Write $||\\bar{a}||^2$ in terms of a dot product. Substitute in the definition of $||\\bar{a}||$ from ii and expand.\n",
        "\n",
        "iv) Equate the formulas for $||\\bar{a}||^2$ from i and iii and rearrange to solve for the dot product of $\\bar{x}$ and $\\bar{y}$. You should get the equation above!\n"
      ]
    },
    {
      "cell_type": "markdown",
      "metadata": {
        "id": "PIeCSyRyMj6Z"
      },
      "source": [
        "## C) Resulting properties of the dot product\n",
        "\n",
        "There are some key properties of the dot product that are easier to see now that we have the definition in terms of the angle between vectors:\n",
        "\n",
        "$$ \\bar{x} \\cdot \\bar{y} =  ||\\bar{x}|| ||\\bar{y}|| cos(\\theta) $$\n",
        "\n",
        "\n",
        "i) What does a dot product of zero tell us about the angle between two vectors? (Optional: Can you think of a term that describes two vectors with this angle between them?)\n",
        "\n",
        "ii) If you are taking the dot product of two unit vectors, what is the maximum dot product and what is the minimum?\n",
        "\n",
        "iii) What is the maximum dot product if you can change the length of the two vectors and angle between them?"
      ]
    },
    {
      "cell_type": "markdown",
      "source": [
        "*YOUR ANSWERS HERE*"
      ],
      "metadata": {
        "id": "sIN7AOFnpjhq"
      }
    },
    {
      "cell_type": "markdown",
      "metadata": {
        "id": "hdv1stq_Nj-E"
      },
      "source": [
        "# Exercise 3: Optimal stimuli for a neuron\n",
        "\n",
        "Let's say that we are modeling the response of a retinal ganglion cell with a receptive field equal to 4 pixels. We are using a simple model in which the response of the neuron corresponds to the weighted sum of the pixel intensities of those 4 pixels. Specifically, the weight from pixel 1 is 2, the weight from pixel 2 is 4, the weight from pixel 3 is 1, and the weight from pixel 4 is 5."
      ]
    },
    {
      "cell_type": "markdown",
      "metadata": {
        "id": "94RiLSEAPFOU"
      },
      "source": [
        "## A) Coding the neuron\n",
        "\n",
        "Complete the function below to compute the response of the model neuron described above given pixel intensities $P_1$ through $P_4$. Use the dot product function `np.dot`. Fill in all `...`\n"
      ]
    },
    {
      "cell_type": "code",
      "metadata": {
        "id": "8La9n-FHNpBU",
        "colab": {
          "base_uri": "https://localhost:8080/"
        },
        "outputId": "b1e4e6e2-46e4-49ac-c302-8bbe0ec19a5d"
      },
      "source": [
        "def compute_response(weights, pixels):\n",
        "\n",
        "  r = np.dot(weights, pixels) # compute the response\n",
        "\n",
        "  return r\n",
        "\n",
        "# Example pixel values\n",
        "p1 = 3\n",
        "p2 = 2\n",
        "p3 = 1\n",
        "p4 = 3\n",
        "\n",
        "pixels = np.array([ 3, 2, 1, 3])\n",
        "weights = np.array([2, 4, 1, 5]) # set the weights of the neuron\n",
        "response = compute_response(weights, pixels)\n",
        "\n",
        "# Uncomment below when done\n",
        "print(response)"
      ],
      "execution_count": 11,
      "outputs": [
        {
          "output_type": "stream",
          "name": "stdout",
          "text": [
            "30\n"
          ]
        }
      ]
    },
    {
      "cell_type": "markdown",
      "metadata": {
        "id": "yClgkS_nQcs5"
      },
      "source": [
        "You should get a response of 30."
      ]
    },
    {
      "cell_type": "markdown",
      "metadata": {
        "id": "EPcXqj9PQhd1"
      },
      "source": [
        "## B) Experimentation\n",
        "\n",
        "Let's say that we're recording the responses of the neuron while presenting various \"images\" (various pixel combinations that we represent with a vector). We are choosing these images so that our pixel vector is always a unit vector. For each random image, compute the response and the angle of that pixel vector with the vector of weights (hint: use `np.arccos`). We will then plot the neural response as a function of the angle (using a hidden function `plot_responses_vs_angles`).\n",
        "\n",
        "Note that the concept of an angle is hard to visualize here when we're working in 4D space! It can be helpful to visualize as if in 2D"
      ]
    },
    {
      "cell_type": "code",
      "metadata": {
        "id": "BwrqwsdYQgQx",
        "colab": {
          "base_uri": "https://localhost:8080/",
          "height": 880
        },
        "outputId": "35cb49c7-4a60-4059-a0d4-9e54ce2157ae"
      },
      "source": [
        "#def generate_unit_vec(vector):\n",
        " # unit_vector = vector / np.linalg.norm(vector)\n",
        "  #return unit_vector\n",
        "\n",
        "\n",
        "\n",
        "n_images = 100 # how many images we present\n",
        "\n",
        "# Set up arrays for storing responses/angles\n",
        "responses = np.zeros((n_images,))\n",
        "angles = np.zeros((n_images))\n",
        "responses[:] = np.nan\n",
        "angles[:] = np.nan\n",
        "\n",
        "# Loop through images\n",
        "for i_image in range(n_images):\n",
        "\n",
        "  pixel_vector = generate_unit_vec()\n",
        "\n",
        "  ## Fill out below and uncomment\n",
        "\n",
        "  # Compute the response of the neuron (hint: use part A)\n",
        "  responses[i_image] = compute_response(weights, pixel_vector)\n",
        "\n",
        "  # Compute the angle between pixel vector and the weight vector (hint: use dot product def again and np.arccos)\n",
        "  angles[i_image] = np.arccos(compute_response(weights, pixel_vector)/((np.linalg.norm(weights)*np.linalg.norm(pixel_vector))))\n",
        "  #print(responses[i_image])\n",
        "  #print(angles[i_image])\n",
        "plot_responses_vs_angles(responses, angles)"
      ],
      "execution_count": 28,
      "outputs": [
        {
          "output_type": "display_data",
          "data": {
            "text/plain": [
              "<Figure size 1000x1000 with 1 Axes>"
            ],
            "image/png": "[encoded data removed]"
          },
          "metadata": {}
        }
      ]
    },
    {
      "cell_type": "markdown",
      "metadata": {
        "id": "NtHz6xxzZC_X"
      },
      "source": [
        "From the resulting plot, what can you tell about how the image similarity to the weights (in terms of angle between weight and pixel vector) affects neural response?\n",
        "\n",
        "**Optional advanced**: Why do the angles only go between 0 and ~80 degrees? (as opposed to 0 and 180 degrees). Why am I specifying that the image should be a unit vector?"
      ]
    },
    {
      "cell_type": "markdown",
      "source": [
        "*YOUR ANSWERS HERE*"
      ],
      "metadata": {
        "id": "0Xsjx2OPprb_"
      }
    },
    {
      "cell_type": "markdown",
      "metadata": {
        "id": "AS3pb0SxaD-g"
      },
      "source": [
        "## C) Computing optimal stimuli\n",
        "\n",
        "How could we compute the optimal stimulus for this neuron (i.e. the image that results in the largest neural response) given the constraint that it must be a unit vector?\n",
        "\n",
        "i) Write out a formula for the optimal stimulus\n",
        "\n",
        "\n",
        "ii) Compute the optimal stimulus below. Make sure the response to it is larger than any in the plot above"
      ]
    },
    {
      "cell_type": "markdown",
      "source": [
        "*i) YOUR ANSWERS HERE*"
      ],
      "metadata": {
        "id": "hoKI9QsppvSb"
      }
    },
    {
      "cell_type": "code",
      "metadata": {
        "id": "0q4qJGJUaYTQ"
      },
      "source": [
        "optimal_stimulus = ...\n",
        "\n",
        "# Uncomment below once you have computed the optimal stimulus\n",
        "#max_response = compute_response(weights, optimal_stimulus)\n",
        "#print(max_response)"
      ],
      "execution_count": null,
      "outputs": []
    },
    {
      "cell_type": "markdown",
      "metadata": {
        "id": "GAg4g23Lbvx2"
      },
      "source": [
        "# Exercise 4: Correlation coefficient\n",
        "\n",
        "Suppose we record from a population of 10,000 neurons and extract each neuron's mean firing rate in condition A and condition B. To quantify population firing similarity between the two conditions, we might calculate the **Pearson correlation coefficient** of the firing rates in the two conditions.\n",
        "\n",
        "Let $\\{a_i\\}_{i=1}^{10000}$ be the firing rates in condition A and $\\{b_i\\}_{i=1}^{10000}$ be the firing rates in condition B. Then the Pearson correlation coefficient $\\rho$ between the firing rates in the two conditions is calculated as:\n",
        "\n",
        "$$ \\rho = \\frac{\\sum_{i=1}^{10000}(a_i - \\mu_a)(b_i - \\mu_b)}{\\sqrt{\\sum_{i=1}^{10000}(a_i - \\mu_a)^2}\\sqrt{\\sum_{i=1}^{10000}(b_i - \\mu_b)^2}}$$\n",
        "\n",
        "where $\\mu_a$ and $\\mu_b$ are the mean firing rates of the population in the two conditions.\n",
        "\n",
        "For simplicity, let's say $\\{x_i\\}_{i=1}^{10000}$ are the firing rates in condition A with $\\mu_a$ already subtracted ($x_i = a_i-\\mu_a$) and $\\{y_i\\}_{i=1}^{10000}$ be the same for condition B ($y_i = b_i - \\mu_b$).\n",
        "\n",
        "\n"
      ]
    },
    {
      "cell_type": "markdown",
      "metadata": {
        "id": "TGbihZk-hlCv"
      },
      "source": [
        "## A) Derivation\n",
        "\n",
        "Show how $\\rho$ relates to the angle $\\theta$ between the two mean zero population firing vectors, $\\bar{x}$ and $\\bar{y}$. You should end with an equation for $\\rho$ in terms of $\\theta$. Hint: how can you transform the equation above to vectors and dot products?"
      ]
    },
    {
      "cell_type": "markdown",
      "source": [
        "*YOUR ANSWER HERE*"
      ],
      "metadata": {
        "id": "iMfIzFKupzp4"
      }
    },
    {
      "cell_type": "markdown",
      "metadata": {
        "id": "IuM4qwjthoTJ"
      },
      "source": [
        "## B) Verification with code\n",
        "\n",
        "We will now compute the correlation coefficient of two firing rate vectors two ways: 1) using numpy's built in `np.corrcoef` function (provided) and 2) using your formula from part A.  Make sure the computed correlation coefficients from the two methods match!"
      ]
    },
    {
      "cell_type": "code",
      "metadata": {
        "id": "otL0ZMUChsAs",
        "colab": {
          "base_uri": "https://localhost:8080/"
        },
        "outputId": "608ca2b1-ac0b-4b25-9a17-c12cfd3f842a"
      },
      "source": [
        "## Method 1 (provided)\n",
        "\n",
        "np.random.seed(123)\n",
        "\n",
        "# Generate firing rate vectors (in Hz)\n",
        "a = np.random.randint(0, 100, size=(10000,))\n",
        "b = a+50*np.random.randn(10000,)\n",
        "\n",
        "# Compute Pearsons correlation coefficient\n",
        "p = np.corrcoef(a, b)[0, 1]\n",
        "print('Pearson correlation coefficient = '+str(p))"
      ],
      "execution_count": 29,
      "outputs": [
        {
          "output_type": "stream",
          "name": "stdout",
          "text": [
            "Pearson correlation coefficient = 0.49406770864742755\n"
          ]
        }
      ]
    },
    {
      "cell_type": "code",
      "metadata": {
        "id": "L1L-VSA1iJMw"
      },
      "source": [
        "## Method 2 (your turn)\n",
        "\n",
        "# Use your formula from Part A to compute the correlation coefficient\n",
        "# Hint: you'll need to compute the angle between vectors\n",
        "\n",
        "your_p = ...\n",
        "print('Pearson correlation coefficient = '+str(your_p))\n"
      ],
      "execution_count": null,
      "outputs": []
    }
  ]
}